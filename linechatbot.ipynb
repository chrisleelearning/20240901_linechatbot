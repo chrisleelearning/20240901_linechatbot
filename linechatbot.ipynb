{
  "cells": [
    {
      "cell_type": "markdown",
      "source": [
        "# 建立LINE機器人"
      ],
      "metadata": {
        "id": "wqbGmPoeLnR7"
      }
    },
    {
      "cell_type": "markdown",
      "source": [
        "* 安裝套件"
      ],
      "metadata": {
        "id": "nh4NME2oLscA"
      }
    },
    {
      "cell_type": "code",
      "execution_count": 1,
      "metadata": {
        "colab": {
          "base_uri": "https://localhost:8080/"
        },
        "id": "7zAv6wdmwdMi",
        "outputId": "0a60e03d-37f6-4931-c126-73752cd6cf79"
      },
      "outputs": [
        {
          "output_type": "stream",
          "name": "stdout",
          "text": [
            "Requirement already satisfied: line-bot-sdk in /usr/local/lib/python3.10/dist-packages (3.11.1)\n",
            "Requirement already satisfied: requests<3,>=2.32.3 in /usr/local/lib/python3.10/dist-packages (from line-bot-sdk) (2.32.3)\n",
            "Requirement already satisfied: urllib3<3,>=2.0.5 in /usr/local/lib/python3.10/dist-packages (from line-bot-sdk) (2.0.7)\n",
            "Requirement already satisfied: aiohttp==3.10.3 in /usr/local/lib/python3.10/dist-packages (from line-bot-sdk) (3.10.3)\n",
            "Requirement already satisfied: future in /usr/local/lib/python3.10/dist-packages (from line-bot-sdk) (1.0.0)\n",
            "Requirement already satisfied: pydantic<3,>=2.0.3 in /usr/local/lib/python3.10/dist-packages (from line-bot-sdk) (2.8.2)\n",
            "Requirement already satisfied: aenum>=3.1.11 in /usr/local/lib/python3.10/dist-packages (from line-bot-sdk) (3.1.15)\n",
            "Requirement already satisfied: python-dateutil>=2.5.3 in /usr/local/lib/python3.10/dist-packages (from line-bot-sdk) (2.8.2)\n",
            "Requirement already satisfied: Deprecated in /usr/local/lib/python3.10/dist-packages (from line-bot-sdk) (1.2.14)\n",
            "Requirement already satisfied: aiohappyeyeballs>=2.3.0 in /usr/local/lib/python3.10/dist-packages (from aiohttp==3.10.3->line-bot-sdk) (2.3.5)\n",
            "Requirement already satisfied: aiosignal>=1.1.2 in /usr/local/lib/python3.10/dist-packages (from aiohttp==3.10.3->line-bot-sdk) (1.3.1)\n",
            "Requirement already satisfied: attrs>=17.3.0 in /usr/local/lib/python3.10/dist-packages (from aiohttp==3.10.3->line-bot-sdk) (24.2.0)\n",
            "Requirement already satisfied: frozenlist>=1.1.1 in /usr/local/lib/python3.10/dist-packages (from aiohttp==3.10.3->line-bot-sdk) (1.4.1)\n",
            "Requirement already satisfied: multidict<7.0,>=4.5 in /usr/local/lib/python3.10/dist-packages (from aiohttp==3.10.3->line-bot-sdk) (6.0.5)\n",
            "Requirement already satisfied: yarl<2.0,>=1.0 in /usr/local/lib/python3.10/dist-packages (from aiohttp==3.10.3->line-bot-sdk) (1.9.4)\n",
            "Requirement already satisfied: async-timeout<5.0,>=4.0 in /usr/local/lib/python3.10/dist-packages (from aiohttp==3.10.3->line-bot-sdk) (4.0.3)\n",
            "Requirement already satisfied: annotated-types>=0.4.0 in /usr/local/lib/python3.10/dist-packages (from pydantic<3,>=2.0.3->line-bot-sdk) (0.7.0)\n",
            "Requirement already satisfied: pydantic-core==2.20.1 in /usr/local/lib/python3.10/dist-packages (from pydantic<3,>=2.0.3->line-bot-sdk) (2.20.1)\n",
            "Requirement already satisfied: typing-extensions>=4.6.1 in /usr/local/lib/python3.10/dist-packages (from pydantic<3,>=2.0.3->line-bot-sdk) (4.12.2)\n",
            "Requirement already satisfied: six>=1.5 in /usr/local/lib/python3.10/dist-packages (from python-dateutil>=2.5.3->line-bot-sdk) (1.16.0)\n",
            "Requirement already satisfied: charset-normalizer<4,>=2 in /usr/local/lib/python3.10/dist-packages (from requests<3,>=2.32.3->line-bot-sdk) (3.3.2)\n",
            "Requirement already satisfied: idna<4,>=2.5 in /usr/local/lib/python3.10/dist-packages (from requests<3,>=2.32.3->line-bot-sdk) (3.7)\n",
            "Requirement already satisfied: certifi>=2017.4.17 in /usr/local/lib/python3.10/dist-packages (from requests<3,>=2.32.3->line-bot-sdk) (2024.7.4)\n",
            "Requirement already satisfied: wrapt<2,>=1.10 in /usr/local/lib/python3.10/dist-packages (from Deprecated->line-bot-sdk) (1.16.0)\n"
          ]
        }
      ],
      "source": [
        "!pip install line-bot-sdk"
      ]
    },
    {
      "cell_type": "markdown",
      "source": [
        "## 使用官方範例程式"
      ],
      "metadata": {
        "id": "hVZYkbfmNkai"
      }
    },
    {
      "cell_type": "markdown",
      "source": [
        "* 使用官方Github程式碼\n",
        "https://github.com/line/line-bot-sdk-python\n",
        "\n",
        "* 記得更改'YOUR_CHANNEL_ACCESS_TOKEN'、'YOUR_CHANNEL_SECRET'"
      ],
      "metadata": {
        "id": "XrkRKlkgLu2y"
      }
    },
    {
      "cell_type": "code",
      "execution_count": 2,
      "metadata": {
        "colab": {
          "base_uri": "https://localhost:8080/"
        },
        "id": "gZgJY-Eew4sx",
        "outputId": "70c587c4-fcd0-44c9-f8b1-0180527dfe04"
      },
      "outputs": [
        {
          "output_type": "stream",
          "name": "stdout",
          "text": [
            " * Serving Flask app '__main__'\n",
            " * Debug mode: off\n"
          ]
        },
        {
          "output_type": "stream",
          "name": "stderr",
          "text": [
            "INFO:werkzeug:\u001b[31m\u001b[1mWARNING: This is a development server. Do not use it in a production deployment. Use a production WSGI server instead.\u001b[0m\n",
            " * Running on http://127.0.0.1:5000\n",
            "INFO:werkzeug:\u001b[33mPress CTRL+C to quit\u001b[0m\n"
          ]
        }
      ],
      "source": [
        "from flask import Flask, request, abort\n",
        "\n",
        "from linebot.v3 import (\n",
        "    WebhookHandler\n",
        ")\n",
        "from linebot.v3.exceptions import (\n",
        "    InvalidSignatureError\n",
        ")\n",
        "from linebot.v3.messaging import (\n",
        "    Configuration,\n",
        "    ApiClient,\n",
        "    MessagingApi,\n",
        "    ReplyMessageRequest,\n",
        "    TextMessage\n",
        ")\n",
        "from linebot.v3.webhooks import (\n",
        "    MessageEvent,\n",
        "    TextMessageContent\n",
        ")\n",
        "\n",
        "app = Flask(__name__)\n",
        "\n",
        "configuration = Configuration(access_token='YOUR_CHANNEL_ACCESS_TOKEN')\n",
        "handler = WebhookHandler('YOUR_CHANNEL_SECRET')\n",
        "\n",
        "\n",
        "@app.route(\"/callback\", methods=['POST'])\n",
        "def callback():\n",
        "    # get X-Line-Signature header value\n",
        "    signature = request.headers['X-Line-Signature']\n",
        "\n",
        "    # get request body as text\n",
        "    body = request.get_data(as_text=True)\n",
        "    app.logger.info(\"Request body: \" + body)\n",
        "\n",
        "    # handle webhook body\n",
        "    try:\n",
        "        handler.handle(body, signature)\n",
        "    except InvalidSignatureError:\n",
        "        app.logger.info(\"Invalid signature. Please check your channel access token/channel secret.\")\n",
        "        abort(400)\n",
        "\n",
        "    return 'OK'\n",
        "\n",
        "\n",
        "@handler.add(MessageEvent, message=TextMessageContent)\n",
        "def handle_message(event):\n",
        "    with ApiClient(configuration) as api_client:\n",
        "        line_bot_api = MessagingApi(api_client)\n",
        "        line_bot_api.reply_message_with_http_info(\n",
        "            ReplyMessageRequest(\n",
        "                reply_token=event.reply_token,\n",
        "                messages=[TextMessage(text=event.message.text)]\n",
        "            )\n",
        "        )\n",
        "\n",
        "if __name__ == \"__main__\":\n",
        "    app.run()"
      ]
    },
    {
      "cell_type": "code",
      "execution_count": 2,
      "metadata": {
        "id": "q5sJLed6w4vO"
      },
      "outputs": [],
      "source": []
    },
    {
      "cell_type": "markdown",
      "source": [
        "## 安裝 Ngrok 進行跳板\n",
        "* 註冊帳號 https://ngrok.com/\n",
        "* 在 Your Authtoken 申請 token 並記下\n",
        "* 讓colab可以跑 ngrok，先掛載 drive\n",
        "* 下載ngrok並做好設定"
      ],
      "metadata": {
        "id": "RN5XS6yJNn4R"
      }
    },
    {
      "cell_type": "code",
      "execution_count": 3,
      "metadata": {
        "id": "6M5mNwgrw4xf",
        "colab": {
          "base_uri": "https://localhost:8080/"
        },
        "outputId": "8e093691-d548-49f9-bb05-af6145a69c08"
      },
      "outputs": [
        {
          "output_type": "stream",
          "name": "stdout",
          "text": [
            "Mounted at /content/drive\n",
            "mkdir: cannot stat ‘/drive’: Transport endpoint is not connected\n",
            "/drive/ngrok-ssh\n",
            "--2024-08-21 14:28:26--  https://bin.equinox.io/c/bNyj1mQVY4c/ngrok-v3-stable-linux-amd64.tgz\n",
            "Resolving bin.equinox.io (bin.equinox.io)... 54.161.241.46, 54.237.133.81, 52.202.168.65, ...\n",
            "Connecting to bin.equinox.io (bin.equinox.io)|54.161.241.46|:443... connected.\n",
            "HTTP request sent, awaiting response... 200 OK\n",
            "Length: 8974299 (8.6M) [application/octet-stream]\n",
            "Saving to: ‘ngrok-v3-stable-linux-amd64.tgz’\n",
            "\n",
            "ngrok-v3-stable-lin 100%[===================>]   8.56M  11.6MB/s    in 0.7s    \n",
            "\n",
            "2024-08-21 14:28:27 (11.6 MB/s) - ‘ngrok-v3-stable-linux-amd64.tgz’ saved [8974299/8974299]\n",
            "\n",
            "ngrok\n"
          ]
        }
      ],
      "source": [
        "from google.colab import drive\n",
        "drive.mount('/content/drive', force_remount=True)\n",
        "!mkdir -p /drive\n",
        "#umount /drive\n",
        "!mount --bind /content/drive/My\\ Drive /drive\n",
        "!mkdir -p /drive/ngrok-ssh\n",
        "!mkdir -p ~/.ssh\n",
        "\n",
        "# 切換到指定目錄\n",
        "!mkdir -p /drive/ngrok-ssh\n",
        "%cd /drive/ngrok-ssh\n",
        "\n",
        "# 下載並解壓最新版本的 Ngrok\n",
        "!wget -c https://bin.equinox.io/c/bNyj1mQVY4c/ngrok-v3-stable-linux-amd64.tgz\n",
        "!tar -xvzf ngrok-v3-stable-linux-amd64.tgz\n",
        "\n",
        "# 複製 ngrok 可執行文件並給予執行權限\n",
        "!cp /drive/ngrok-ssh/ngrok /ngrok\n",
        "!chmod +x /ngrok\n"
      ]
    },
    {
      "cell_type": "markdown",
      "source": [
        "* 將 token 改為自己的"
      ],
      "metadata": {
        "id": "P31YvxZ9Oxi_"
      }
    },
    {
      "cell_type": "code",
      "source": [
        "!./ngrok authtoken 4oVAUwYgzt1HsxSoVjds2_5Tz8dzMu6xDF4hyGYbqap"
      ],
      "metadata": {
        "colab": {
          "base_uri": "https://localhost:8080/"
        },
        "id": "KFIQfhKtOitB",
        "outputId": "38545576-62f6-41b7-bb2e-71b7e4405c05"
      },
      "execution_count": 4,
      "outputs": [
        {
          "output_type": "stream",
          "name": "stdout",
          "text": [
            "Authtoken saved to configuration file: /root/.config/ngrok/ngrok.yml\n"
          ]
        }
      ]
    },
    {
      "cell_type": "markdown",
      "source": [
        "* 安裝 ngrok、LINE 相依套件"
      ],
      "metadata": {
        "id": "9cqmwqzSPD3E"
      }
    },
    {
      "cell_type": "code",
      "source": [
        "!pip install pyngrok"
      ],
      "metadata": {
        "colab": {
          "base_uri": "https://localhost:8080/"
        },
        "id": "Ql1kxucUO5wu",
        "outputId": "583cc8c3-03a0-49ed-9ffc-48b1894df410"
      },
      "execution_count": 5,
      "outputs": [
        {
          "output_type": "stream",
          "name": "stdout",
          "text": [
            "Requirement already satisfied: pyngrok in /usr/local/lib/python3.10/dist-packages (7.2.0)\n",
            "Requirement already satisfied: PyYAML>=5.1 in /usr/local/lib/python3.10/dist-packages (from pyngrok) (6.0.2)\n"
          ]
        }
      ]
    },
    {
      "cell_type": "code",
      "source": [],
      "metadata": {
        "id": "dwmStLAJPC3E"
      },
      "execution_count": 5,
      "outputs": []
    },
    {
      "cell_type": "markdown",
      "source": [
        "## 重新執行API程式\n",
        "* 注意每次執行的URL會不一樣"
      ],
      "metadata": {
        "id": "L5yw3j59P2y4"
      }
    },
    {
      "cell_type": "code",
      "source": [
        "from flask import Flask, request, abort\n",
        "from pyngrok import ngrok\n",
        "import os\n",
        "\n",
        "from linebot.v3 import WebhookHandler\n",
        "from linebot.v3.exceptions import InvalidSignatureError\n",
        "from linebot.v3.messaging import Configuration, ApiClient, MessagingApi, ReplyMessageRequest, TextMessage\n",
        "from linebot.v3.webhooks import MessageEvent, TextMessageContent\n",
        "\n",
        "app = Flask(__name__)\n",
        "\n",
        "# 設定你的 Channel Access Token 和 Channel Secret\n",
        "configuration = Configuration(access_token='YOUR_CHANNEL_ACCESS_TOKEN')\n",
        "handler = WebhookHandler('YOUR_CHANNEL_SECRET')\n",
        "\n",
        "@app.route(\"/callback\", methods=['POST'])\n",
        "def callback():\n",
        "    # 獲取 X-Line-Signature header 值\n",
        "    signature = request.headers['X-Line-Signature']\n",
        "\n",
        "    # 獲取文本內容\n",
        "    body = request.get_data(as_text=True)\n",
        "    app.logger.info(\"Request body: \" + body)\n",
        "\n",
        "    # 處理 webhook body\n",
        "    try:\n",
        "        handler.handle(body, signature)\n",
        "    except InvalidSignatureError:\n",
        "        app.logger.info(\"Invalid signature. Please check your channel access token/channel secret.\")\n",
        "        abort(400)\n",
        "\n",
        "    return 'OK'\n",
        "\n",
        "@handler.add(MessageEvent, message=TextMessageContent)\n",
        "def handle_message(event):\n",
        "    with ApiClient(configuration) as api_client:\n",
        "        line_bot_api = MessagingApi(api_client)\n",
        "        line_bot_api.reply_message_with_http_info(\n",
        "            ReplyMessageRequest(\n",
        "                reply_token=event.reply_token,\n",
        "                messages=[TextMessage(text=event.message.text)]\n",
        "            )\n",
        "        )\n",
        "\n",
        "if __name__ == \"__main__\":\n",
        "    port = 5000\n",
        "    public_url = ngrok.connect(port).public_url\n",
        "    print(f\" * ngrok tunnel \\\"{public_url}\\\" -> \\\"http://127.0.0.1:{port}\\\"\")\n",
        "\n",
        "    # 更新 LINE webhook URL\n",
        "    os.environ[\"LINE_WEBHOOK_URL\"] = public_url + \"/callback\"\n",
        "    print(f\"Webhook URL: {os.environ['LINE_WEBHOOK_URL']}\")\n",
        "    app.run(port=port)"
      ],
      "metadata": {
        "colab": {
          "base_uri": "https://localhost:8080/"
        },
        "id": "OhlhyMtUP5fF",
        "outputId": "90e83df8-153f-4eee-f72f-b084adf8eff8"
      },
      "execution_count": 9,
      "outputs": [
        {
          "output_type": "stream",
          "name": "stderr",
          "text": [
            "WARNING:pyngrok.process.ngrok:t=2024-08-21T14:38:17+0000 lvl=warn msg=\"ngrok config file found at both XDG and legacy locations, using XDG location\" xdg_path=/root/.config/ngrok/ngrok.yml legacy_path=/root/.ngrok2/ngrok.yml\n"
          ]
        },
        {
          "output_type": "stream",
          "name": "stdout",
          "text": [
            " * ngrok tunnel \"https://a8e4-35-224-254-65.ngrok-free.app\" -> \"http://127.0.0.1:5000\"\n",
            "Webhook URL: https://a8e4-35-224-254-65.ngrok-free.app/callback\n",
            " * Serving Flask app '__main__'\n",
            " * Debug mode: off\n"
          ]
        },
        {
          "output_type": "stream",
          "name": "stderr",
          "text": [
            "INFO:werkzeug:\u001b[31m\u001b[1mWARNING: This is a development server. Do not use it in a production deployment. Use a production WSGI server instead.\u001b[0m\n",
            " * Running on http://127.0.0.1:5000\n",
            "INFO:werkzeug:\u001b[33mPress CTRL+C to quit\u001b[0m\n",
            "INFO:werkzeug:127.0.0.1 - - [21/Aug/2024 14:38:27] \"POST /callback HTTP/1.1\" 200 -\n",
            "INFO:werkzeug:127.0.0.1 - - [21/Aug/2024 14:46:08] \"POST /callback HTTP/1.1\" 200 -\n",
            "INFO:werkzeug:127.0.0.1 - - [21/Aug/2024 14:48:05] \"POST /callback HTTP/1.1\" 200 -\n",
            "INFO:werkzeug:127.0.0.1 - - [21/Aug/2024 14:48:08] \"POST /callback HTTP/1.1\" 200 -\n",
            "INFO:werkzeug:127.0.0.1 - - [21/Aug/2024 14:48:10] \"POST /callback HTTP/1.1\" 200 -\n",
            "INFO:werkzeug:127.0.0.1 - - [21/Aug/2024 14:48:11] \"POST /callback HTTP/1.1\" 200 -\n"
          ]
        }
      ]
    },
    {
      "cell_type": "code",
      "source": [],
      "metadata": {
        "id": "aqa6q35mP8cf"
      },
      "execution_count": null,
      "outputs": []
    },
    {
      "cell_type": "code",
      "source": [],
      "metadata": {
        "id": "CKd98lBjUhvv"
      },
      "execution_count": null,
      "outputs": []
    },
    {
      "cell_type": "markdown",
      "source": [
        "# 使用GCP建立機器人"
      ],
      "metadata": {
        "id": "MHtUYtQDpLkW"
      }
    },
    {
      "cell_type": "markdown",
      "source": [
        "## Cloud run 函數\n",
        "* echo機器人"
      ],
      "metadata": {
        "id": "kR3gdP12pPS3"
      }
    },
    {
      "cell_type": "code",
      "source": [
        "from flask import abort, jsonify\n",
        "from linebot.v3 import WebhookHandler\n",
        "from linebot.v3.exceptions import InvalidSignatureError\n",
        "from linebot.v3.messaging import Configuration, ApiClient, MessagingApi, ReplyMessageRequest, TextMessage\n",
        "from linebot.v3.webhooks import MessageEvent, TextMessageContent\n",
        "\n",
        "# 設定你的 Channel Access Token 和 Channel Secret\n",
        "configuration = Configuration(access_token='YOUR_CHANNEL_ACCESS_TOKEN')\n",
        "handler = WebhookHandler('YOUR_CHANNEL_SECRET')\n",
        "\n",
        "def line_bot(request):\n",
        "    # 獲取 X-Line-Signature header 值\n",
        "    signature = request.headers.get('X-Line-Signature', '')\n",
        "\n",
        "    # 獲取文本內容\n",
        "    body = request.get_data(as_text=True)\n",
        "    print(f\"Request body: {body}\")\n",
        "\n",
        "    # 處理 webhook body\n",
        "    try:\n",
        "        handler.handle(body, signature)\n",
        "    except InvalidSignatureError:\n",
        "        print(\"Invalid signature. Please check your channel access token/channel secret.\")\n",
        "        abort(400)\n",
        "\n",
        "    return 'OK'\n",
        "\n",
        "@handler.add(MessageEvent, message=TextMessageContent)\n",
        "def handle_message(event):\n",
        "    with ApiClient(configuration) as api_client:\n",
        "        line_bot_api = MessagingApi(api_client)\n",
        "        line_bot_api.reply_message_with_http_info(\n",
        "            ReplyMessageRequest(\n",
        "                reply_token=event.reply_token,\n",
        "                messages=[TextMessage(text=event.message.text)]\n",
        "            )\n",
        "        )"
      ],
      "metadata": {
        "id": "k6sOz_dYUhyD"
      },
      "execution_count": null,
      "outputs": []
    },
    {
      "cell_type": "code",
      "source": [],
      "metadata": {
        "id": "i8bp1h9QUh0B"
      },
      "execution_count": null,
      "outputs": []
    },
    {
      "cell_type": "markdown",
      "source": [
        "## Gemini API 機器人"
      ],
      "metadata": {
        "id": "6wF62TmsxFB5"
      }
    },
    {
      "cell_type": "code",
      "source": [
        "import os\n",
        "from flask import abort\n",
        "from linebot.v3 import WebhookHandler\n",
        "from linebot.v3.exceptions import InvalidSignatureError\n",
        "from linebot.v3.messaging import Configuration, ApiClient, MessagingApi, ReplyMessageRequest, TextMessage\n",
        "from linebot.v3.webhooks import MessageEvent, TextMessageContent\n",
        "import google.generativeai as genai\n",
        "\n",
        "# 設定你的 Channel Access Token 和 Channel Secret\n",
        "configuration = Configuration(access_token='YOUR_CHANNEL_ACCESS_TOKEN')\n",
        "handler = WebhookHandler('YOUR_CHANNEL_SECRET')\n",
        "\n",
        "# 設置 GCP API 金鑰\n",
        "GEMINI_API_KEY = 'YOUR_API_KEY'\n",
        "\n",
        "# 配置 Gemini\n",
        "genai.configure(api_key=GEMINI_API_KEY)\n",
        "model = genai.GenerativeModel('gemini-pro')\n",
        "\n",
        "def generate_gemini_response(prompt):\n",
        "    try:\n",
        "        response = model.generate_content(prompt)\n",
        "        return response.text\n",
        "    except Exception as e:\n",
        "        print(f\"Error generating Gemini response: {str(e)}\")\n",
        "        return \"很抱歉我無法回答，請稍後再試。\"\n",
        "\n",
        "def line_bot_webhook(request):\n",
        "    # 獲取 X-Line-Signature header 值\n",
        "    signature = request.headers.get('X-Line-Signature', '')\n",
        "\n",
        "    # 獲取文本內容\n",
        "    body = request.get_data(as_text=True)\n",
        "    print(f\"Request body: {body}\")\n",
        "\n",
        "    # 處理 webhook body\n",
        "    try:\n",
        "        handler.handle(body, signature)\n",
        "    except InvalidSignatureError:\n",
        "        print(\"Invalid signature. Please check your channel access token/channel secret.\")\n",
        "        abort(400)\n",
        "\n",
        "    return 'OK'\n",
        "\n",
        "@handler.add(MessageEvent, message=TextMessageContent)\n",
        "def handle_message(event):\n",
        "    user_message = event.message.text\n",
        "    gemini_response = generate_gemini_response(user_message)\n",
        "\n",
        "    with ApiClient(configuration) as api_client:\n",
        "        line_bot_api = MessagingApi(api_client)\n",
        "        line_bot_api.reply_message_with_http_info(\n",
        "            ReplyMessageRequest(\n",
        "                reply_token=event.reply_token,\n",
        "                messages=[TextMessage(text=gemini_response)]\n",
        "            )\n",
        "        )\n",
        "\n",
        "# 進入點\n",
        "def main(request):\n",
        "    return line_bot_webhook(request)"
      ],
      "metadata": {
        "id": "Mbeimh1NxG7P"
      },
      "execution_count": null,
      "outputs": []
    }
  ],
  "metadata": {
    "colab": {
      "provenance": [],
      "toc_visible": true
    },
    "kernelspec": {
      "display_name": "Python 3",
      "name": "python3"
    },
    "language_info": {
      "name": "python"
    }
  },
  "nbformat": 4,
  "nbformat_minor": 0
}